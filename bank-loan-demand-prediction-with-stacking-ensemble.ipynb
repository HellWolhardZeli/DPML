{
 "cells": [
  {
   "cell_type": "code",
   "execution_count": 165,
   "metadata": {},
   "outputs": [],
   "source": [
    "import warnings\n",
    "warnings.filterwarnings('ignore')\n",
    "warnings.simplefilter('ignore')\n"
   ]
  },
  {
   "cell_type": "markdown",
   "metadata": {
    "papermill": {
     "duration": 0.046836,
     "end_time": "2020-10-07T13:07:33.397112",
     "exception": false,
     "start_time": "2020-10-07T13:07:33.350276",
     "status": "completed"
    },
    "tags": []
   },
   "source": [
    "\n",
    "\n",
    "\n",
    "* Load Data\n",
    "* Split Data\n",
    "* Visualization and Outlier Check\n",
    "* Standardization\n",
    "* Prepare Training Data for Meta Learner\n",
    "* Train Base Learners\n",
    "* Test Base Learners\n",
    "* Train Meta Learner\n",
    "* Test Stacking Ensemble"
   ]
  },
  {
   "cell_type": "code",
   "execution_count": 166,
   "metadata": {
    "_cell_guid": "b1076dfc-b9ad-4769-8c92-a6c4dae69d19",
    "_uuid": "8f2839f25d086af736a60e9eeb907d3b93b6e0e5",
    "execution": {
     "iopub.execute_input": "2020-10-07T13:07:33.493886Z",
     "iopub.status.busy": "2020-10-07T13:07:33.493096Z",
     "iopub.status.idle": "2020-10-07T13:07:35.877989Z",
     "shell.execute_reply": "2020-10-07T13:07:35.877106Z"
    },
    "papermill": {
     "duration": 2.436741,
     "end_time": "2020-10-07T13:07:35.878124",
     "exception": false,
     "start_time": "2020-10-07T13:07:33.441383",
     "status": "completed"
    },
    "tags": []
   },
   "outputs": [],
   "source": [
    "import numpy as np\n",
    "import pandas as pd\n",
    "\n",
    "import seaborn as sea\n",
    "\n",
    "from sklearn.model_selection import train_test_split\n",
    "from sklearn.preprocessing import StandardScaler\n",
    "\n",
    "import xgboost as xgb\n",
    "from sklearn.linear_model import LogisticRegression\n",
    "from sklearn.tree import DecisionTreeClassifier\n",
    "from sklearn.model_selection import RepeatedStratifiedKFold\n",
    "from sklearn.metrics import classification_report\n",
    "from sklearn.metrics import confusion_matrix,ConfusionMatrixDisplay\n",
    "\n",
    "import matplotlib.pyplot as plt\n",
    "import matplotlib.gridspec as gridspec"
   ]
  },
  {
   "cell_type": "code",
   "execution_count": 167,
   "metadata": {
    "execution": {
     "iopub.execute_input": "2020-10-07T13:07:35.970812Z",
     "iopub.status.busy": "2020-10-07T13:07:35.969893Z",
     "iopub.status.idle": "2020-10-07T13:07:35.972815Z",
     "shell.execute_reply": "2020-10-07T13:07:35.972027Z"
    },
    "papermill": {
     "duration": 0.051202,
     "end_time": "2020-10-07T13:07:35.972938",
     "exception": false,
     "start_time": "2020-10-07T13:07:35.921736",
     "status": "completed"
    },
    "tags": []
   },
   "outputs": [],
   "source": [
    "sea.set_style(\"darkgrid\")"
   ]
  },
  {
   "cell_type": "markdown",
   "metadata": {
    "papermill": {
     "duration": 0.043065,
     "end_time": "2020-10-07T13:07:36.059523",
     "exception": false,
     "start_time": "2020-10-07T13:07:36.016458",
     "status": "completed"
    },
    "tags": []
   },
   "source": [
    "## Load Data\n",
    "\n",
    "**Bank Loan Modeling** dataset is used. Dataset is an excel file and it has 2 excel sheets, Data and Description. **Pandas read_excel** function is used to read **Data sheet**."
   ]
  },
  {
   "cell_type": "code",
   "execution_count": 168,
   "metadata": {
    "_cell_guid": "79c7e3d0-c299-4dcb-8224-4455121ee9b0",
    "_uuid": "d629ff2d2480ee46fbb7e2d37f6b5fab8052498a",
    "execution": {
     "iopub.execute_input": "2020-10-07T13:07:36.158937Z",
     "iopub.status.busy": "2020-10-07T13:07:36.158117Z",
     "iopub.status.idle": "2020-10-07T13:07:38.042514Z",
     "shell.execute_reply": "2020-10-07T13:07:38.043108Z"
    },
    "papermill": {
     "duration": 1.939249,
     "end_time": "2020-10-07T13:07:38.043261",
     "exception": false,
     "start_time": "2020-10-07T13:07:36.104012",
     "status": "completed"
    },
    "tags": []
   },
   "outputs": [
    {
     "data": {
      "text/html": [
       "<style type=\"text/css\">\n",
       "#T_bfcde_ th {\n",
       "  font-weight: bold;\n",
       "  font-size: 12px;\n",
       "  text-align: center;\n",
       "}\n",
       "#T_bfcde_ tr:nth-child(even) {\n",
       "  background-color: #f2f2f2;\n",
       "}\n",
       "#T_bfcde_ tr:nth-child(odd) {\n",
       "  background-color: #fdfdfd;\n",
       "}\n",
       "#T_bfcde_ tr:hover {\n",
       "  background-color: #bcbcbc;\n",
       "}\n",
       "#T_bfcde_row0_col0, #T_bfcde_row0_col1, #T_bfcde_row0_col2, #T_bfcde_row0_col3, #T_bfcde_row0_col4, #T_bfcde_row0_col5, #T_bfcde_row0_col6, #T_bfcde_row0_col7, #T_bfcde_row0_col8, #T_bfcde_row0_col9, #T_bfcde_row0_col10, #T_bfcde_row0_col11, #T_bfcde_row0_col12, #T_bfcde_row0_col13, #T_bfcde_row1_col0, #T_bfcde_row1_col1, #T_bfcde_row1_col2, #T_bfcde_row1_col3, #T_bfcde_row1_col4, #T_bfcde_row1_col5, #T_bfcde_row1_col6, #T_bfcde_row1_col7, #T_bfcde_row1_col8, #T_bfcde_row1_col9, #T_bfcde_row1_col10, #T_bfcde_row1_col11, #T_bfcde_row1_col12, #T_bfcde_row1_col13, #T_bfcde_row2_col0, #T_bfcde_row2_col1, #T_bfcde_row2_col2, #T_bfcde_row2_col3, #T_bfcde_row2_col4, #T_bfcde_row2_col5, #T_bfcde_row2_col6, #T_bfcde_row2_col7, #T_bfcde_row2_col8, #T_bfcde_row2_col9, #T_bfcde_row2_col10, #T_bfcde_row2_col11, #T_bfcde_row2_col12, #T_bfcde_row2_col13, #T_bfcde_row3_col0, #T_bfcde_row3_col1, #T_bfcde_row3_col2, #T_bfcde_row3_col3, #T_bfcde_row3_col4, #T_bfcde_row3_col5, #T_bfcde_row3_col6, #T_bfcde_row3_col7, #T_bfcde_row3_col8, #T_bfcde_row3_col9, #T_bfcde_row3_col10, #T_bfcde_row3_col11, #T_bfcde_row3_col12, #T_bfcde_row3_col13, #T_bfcde_row4_col0, #T_bfcde_row4_col1, #T_bfcde_row4_col2, #T_bfcde_row4_col3, #T_bfcde_row4_col4, #T_bfcde_row4_col5, #T_bfcde_row4_col6, #T_bfcde_row4_col7, #T_bfcde_row4_col8, #T_bfcde_row4_col9, #T_bfcde_row4_col10, #T_bfcde_row4_col11, #T_bfcde_row4_col12, #T_bfcde_row4_col13, #T_bfcde_row5_col0, #T_bfcde_row5_col1, #T_bfcde_row5_col2, #T_bfcde_row5_col3, #T_bfcde_row5_col4, #T_bfcde_row5_col5, #T_bfcde_row5_col6, #T_bfcde_row5_col7, #T_bfcde_row5_col8, #T_bfcde_row5_col9, #T_bfcde_row5_col10, #T_bfcde_row5_col11, #T_bfcde_row5_col12, #T_bfcde_row5_col13, #T_bfcde_row6_col0, #T_bfcde_row6_col1, #T_bfcde_row6_col2, #T_bfcde_row6_col3, #T_bfcde_row6_col4, #T_bfcde_row6_col5, #T_bfcde_row6_col6, #T_bfcde_row6_col7, #T_bfcde_row6_col8, #T_bfcde_row6_col9, #T_bfcde_row6_col10, #T_bfcde_row6_col11, #T_bfcde_row6_col12, #T_bfcde_row6_col13, #T_bfcde_row7_col0, #T_bfcde_row7_col1, #T_bfcde_row7_col2, #T_bfcde_row7_col3, #T_bfcde_row7_col4, #T_bfcde_row7_col5, #T_bfcde_row7_col6, #T_bfcde_row7_col7, #T_bfcde_row7_col8, #T_bfcde_row7_col9, #T_bfcde_row7_col10, #T_bfcde_row7_col11, #T_bfcde_row7_col12, #T_bfcde_row7_col13, #T_bfcde_row8_col0, #T_bfcde_row8_col1, #T_bfcde_row8_col2, #T_bfcde_row8_col3, #T_bfcde_row8_col4, #T_bfcde_row8_col5, #T_bfcde_row8_col6, #T_bfcde_row8_col7, #T_bfcde_row8_col8, #T_bfcde_row8_col9, #T_bfcde_row8_col10, #T_bfcde_row8_col11, #T_bfcde_row8_col12, #T_bfcde_row8_col13, #T_bfcde_row9_col0, #T_bfcde_row9_col1, #T_bfcde_row9_col2, #T_bfcde_row9_col3, #T_bfcde_row9_col4, #T_bfcde_row9_col5, #T_bfcde_row9_col6, #T_bfcde_row9_col7, #T_bfcde_row9_col8, #T_bfcde_row9_col9, #T_bfcde_row9_col10, #T_bfcde_row9_col11, #T_bfcde_row9_col12, #T_bfcde_row9_col13 {\n",
       "  min-width: 60px;\n",
       "  color: #111111;\n",
       "  text-align: center;\n",
       "}\n",
       "</style>\n",
       "<table id=\"T_bfcde_\">\n",
       "  <thead>\n",
       "    <tr>\n",
       "      <th class=\"blank level0\" >&nbsp;</th>\n",
       "      <th class=\"col_heading level0 col0\" >ID</th>\n",
       "      <th class=\"col_heading level0 col1\" >Age</th>\n",
       "      <th class=\"col_heading level0 col2\" >Experience</th>\n",
       "      <th class=\"col_heading level0 col3\" >Income</th>\n",
       "      <th class=\"col_heading level0 col4\" >ZIP Code</th>\n",
       "      <th class=\"col_heading level0 col5\" >Family</th>\n",
       "      <th class=\"col_heading level0 col6\" >CCAvg</th>\n",
       "      <th class=\"col_heading level0 col7\" >Education</th>\n",
       "      <th class=\"col_heading level0 col8\" >Mortgage</th>\n",
       "      <th class=\"col_heading level0 col9\" >Personal Loan</th>\n",
       "      <th class=\"col_heading level0 col10\" >Securities Account</th>\n",
       "      <th class=\"col_heading level0 col11\" >CD Account</th>\n",
       "      <th class=\"col_heading level0 col12\" >Online</th>\n",
       "      <th class=\"col_heading level0 col13\" >CreditCard</th>\n",
       "    </tr>\n",
       "  </thead>\n",
       "  <tbody>\n",
       "    <tr>\n",
       "      <th id=\"T_bfcde_level0_row0\" class=\"row_heading level0 row0\" >0</th>\n",
       "      <td id=\"T_bfcde_row0_col0\" class=\"data row0 col0\" >1</td>\n",
       "      <td id=\"T_bfcde_row0_col1\" class=\"data row0 col1\" >25</td>\n",
       "      <td id=\"T_bfcde_row0_col2\" class=\"data row0 col2\" >1</td>\n",
       "      <td id=\"T_bfcde_row0_col3\" class=\"data row0 col3\" >49</td>\n",
       "      <td id=\"T_bfcde_row0_col4\" class=\"data row0 col4\" >91107</td>\n",
       "      <td id=\"T_bfcde_row0_col5\" class=\"data row0 col5\" >4</td>\n",
       "      <td id=\"T_bfcde_row0_col6\" class=\"data row0 col6\" >1.60</td>\n",
       "      <td id=\"T_bfcde_row0_col7\" class=\"data row0 col7\" >1</td>\n",
       "      <td id=\"T_bfcde_row0_col8\" class=\"data row0 col8\" >0</td>\n",
       "      <td id=\"T_bfcde_row0_col9\" class=\"data row0 col9\" >0</td>\n",
       "      <td id=\"T_bfcde_row0_col10\" class=\"data row0 col10\" >1</td>\n",
       "      <td id=\"T_bfcde_row0_col11\" class=\"data row0 col11\" >0</td>\n",
       "      <td id=\"T_bfcde_row0_col12\" class=\"data row0 col12\" >0</td>\n",
       "      <td id=\"T_bfcde_row0_col13\" class=\"data row0 col13\" >0</td>\n",
       "    </tr>\n",
       "    <tr>\n",
       "      <th id=\"T_bfcde_level0_row1\" class=\"row_heading level0 row1\" >1</th>\n",
       "      <td id=\"T_bfcde_row1_col0\" class=\"data row1 col0\" >2</td>\n",
       "      <td id=\"T_bfcde_row1_col1\" class=\"data row1 col1\" >45</td>\n",
       "      <td id=\"T_bfcde_row1_col2\" class=\"data row1 col2\" >19</td>\n",
       "      <td id=\"T_bfcde_row1_col3\" class=\"data row1 col3\" >34</td>\n",
       "      <td id=\"T_bfcde_row1_col4\" class=\"data row1 col4\" >90089</td>\n",
       "      <td id=\"T_bfcde_row1_col5\" class=\"data row1 col5\" >3</td>\n",
       "      <td id=\"T_bfcde_row1_col6\" class=\"data row1 col6\" >1.50</td>\n",
       "      <td id=\"T_bfcde_row1_col7\" class=\"data row1 col7\" >1</td>\n",
       "      <td id=\"T_bfcde_row1_col8\" class=\"data row1 col8\" >0</td>\n",
       "      <td id=\"T_bfcde_row1_col9\" class=\"data row1 col9\" >0</td>\n",
       "      <td id=\"T_bfcde_row1_col10\" class=\"data row1 col10\" >1</td>\n",
       "      <td id=\"T_bfcde_row1_col11\" class=\"data row1 col11\" >0</td>\n",
       "      <td id=\"T_bfcde_row1_col12\" class=\"data row1 col12\" >0</td>\n",
       "      <td id=\"T_bfcde_row1_col13\" class=\"data row1 col13\" >0</td>\n",
       "    </tr>\n",
       "    <tr>\n",
       "      <th id=\"T_bfcde_level0_row2\" class=\"row_heading level0 row2\" >2</th>\n",
       "      <td id=\"T_bfcde_row2_col0\" class=\"data row2 col0\" >3</td>\n",
       "      <td id=\"T_bfcde_row2_col1\" class=\"data row2 col1\" >39</td>\n",
       "      <td id=\"T_bfcde_row2_col2\" class=\"data row2 col2\" >15</td>\n",
       "      <td id=\"T_bfcde_row2_col3\" class=\"data row2 col3\" >11</td>\n",
       "      <td id=\"T_bfcde_row2_col4\" class=\"data row2 col4\" >94720</td>\n",
       "      <td id=\"T_bfcde_row2_col5\" class=\"data row2 col5\" >1</td>\n",
       "      <td id=\"T_bfcde_row2_col6\" class=\"data row2 col6\" >1.00</td>\n",
       "      <td id=\"T_bfcde_row2_col7\" class=\"data row2 col7\" >1</td>\n",
       "      <td id=\"T_bfcde_row2_col8\" class=\"data row2 col8\" >0</td>\n",
       "      <td id=\"T_bfcde_row2_col9\" class=\"data row2 col9\" >0</td>\n",
       "      <td id=\"T_bfcde_row2_col10\" class=\"data row2 col10\" >0</td>\n",
       "      <td id=\"T_bfcde_row2_col11\" class=\"data row2 col11\" >0</td>\n",
       "      <td id=\"T_bfcde_row2_col12\" class=\"data row2 col12\" >0</td>\n",
       "      <td id=\"T_bfcde_row2_col13\" class=\"data row2 col13\" >0</td>\n",
       "    </tr>\n",
       "    <tr>\n",
       "      <th id=\"T_bfcde_level0_row3\" class=\"row_heading level0 row3\" >3</th>\n",
       "      <td id=\"T_bfcde_row3_col0\" class=\"data row3 col0\" >4</td>\n",
       "      <td id=\"T_bfcde_row3_col1\" class=\"data row3 col1\" >35</td>\n",
       "      <td id=\"T_bfcde_row3_col2\" class=\"data row3 col2\" >9</td>\n",
       "      <td id=\"T_bfcde_row3_col3\" class=\"data row3 col3\" >100</td>\n",
       "      <td id=\"T_bfcde_row3_col4\" class=\"data row3 col4\" >94112</td>\n",
       "      <td id=\"T_bfcde_row3_col5\" class=\"data row3 col5\" >1</td>\n",
       "      <td id=\"T_bfcde_row3_col6\" class=\"data row3 col6\" >2.70</td>\n",
       "      <td id=\"T_bfcde_row3_col7\" class=\"data row3 col7\" >2</td>\n",
       "      <td id=\"T_bfcde_row3_col8\" class=\"data row3 col8\" >0</td>\n",
       "      <td id=\"T_bfcde_row3_col9\" class=\"data row3 col9\" >0</td>\n",
       "      <td id=\"T_bfcde_row3_col10\" class=\"data row3 col10\" >0</td>\n",
       "      <td id=\"T_bfcde_row3_col11\" class=\"data row3 col11\" >0</td>\n",
       "      <td id=\"T_bfcde_row3_col12\" class=\"data row3 col12\" >0</td>\n",
       "      <td id=\"T_bfcde_row3_col13\" class=\"data row3 col13\" >0</td>\n",
       "    </tr>\n",
       "    <tr>\n",
       "      <th id=\"T_bfcde_level0_row4\" class=\"row_heading level0 row4\" >4</th>\n",
       "      <td id=\"T_bfcde_row4_col0\" class=\"data row4 col0\" >5</td>\n",
       "      <td id=\"T_bfcde_row4_col1\" class=\"data row4 col1\" >35</td>\n",
       "      <td id=\"T_bfcde_row4_col2\" class=\"data row4 col2\" >8</td>\n",
       "      <td id=\"T_bfcde_row4_col3\" class=\"data row4 col3\" >45</td>\n",
       "      <td id=\"T_bfcde_row4_col4\" class=\"data row4 col4\" >91330</td>\n",
       "      <td id=\"T_bfcde_row4_col5\" class=\"data row4 col5\" >4</td>\n",
       "      <td id=\"T_bfcde_row4_col6\" class=\"data row4 col6\" >1.00</td>\n",
       "      <td id=\"T_bfcde_row4_col7\" class=\"data row4 col7\" >2</td>\n",
       "      <td id=\"T_bfcde_row4_col8\" class=\"data row4 col8\" >0</td>\n",
       "      <td id=\"T_bfcde_row4_col9\" class=\"data row4 col9\" >0</td>\n",
       "      <td id=\"T_bfcde_row4_col10\" class=\"data row4 col10\" >0</td>\n",
       "      <td id=\"T_bfcde_row4_col11\" class=\"data row4 col11\" >0</td>\n",
       "      <td id=\"T_bfcde_row4_col12\" class=\"data row4 col12\" >0</td>\n",
       "      <td id=\"T_bfcde_row4_col13\" class=\"data row4 col13\" >1</td>\n",
       "    </tr>\n",
       "    <tr>\n",
       "      <th id=\"T_bfcde_level0_row5\" class=\"row_heading level0 row5\" >5</th>\n",
       "      <td id=\"T_bfcde_row5_col0\" class=\"data row5 col0\" >6</td>\n",
       "      <td id=\"T_bfcde_row5_col1\" class=\"data row5 col1\" >37</td>\n",
       "      <td id=\"T_bfcde_row5_col2\" class=\"data row5 col2\" >13</td>\n",
       "      <td id=\"T_bfcde_row5_col3\" class=\"data row5 col3\" >29</td>\n",
       "      <td id=\"T_bfcde_row5_col4\" class=\"data row5 col4\" >92121</td>\n",
       "      <td id=\"T_bfcde_row5_col5\" class=\"data row5 col5\" >4</td>\n",
       "      <td id=\"T_bfcde_row5_col6\" class=\"data row5 col6\" >0.40</td>\n",
       "      <td id=\"T_bfcde_row5_col7\" class=\"data row5 col7\" >2</td>\n",
       "      <td id=\"T_bfcde_row5_col8\" class=\"data row5 col8\" >155</td>\n",
       "      <td id=\"T_bfcde_row5_col9\" class=\"data row5 col9\" >0</td>\n",
       "      <td id=\"T_bfcde_row5_col10\" class=\"data row5 col10\" >0</td>\n",
       "      <td id=\"T_bfcde_row5_col11\" class=\"data row5 col11\" >0</td>\n",
       "      <td id=\"T_bfcde_row5_col12\" class=\"data row5 col12\" >1</td>\n",
       "      <td id=\"T_bfcde_row5_col13\" class=\"data row5 col13\" >0</td>\n",
       "    </tr>\n",
       "    <tr>\n",
       "      <th id=\"T_bfcde_level0_row6\" class=\"row_heading level0 row6\" >6</th>\n",
       "      <td id=\"T_bfcde_row6_col0\" class=\"data row6 col0\" >7</td>\n",
       "      <td id=\"T_bfcde_row6_col1\" class=\"data row6 col1\" >53</td>\n",
       "      <td id=\"T_bfcde_row6_col2\" class=\"data row6 col2\" >27</td>\n",
       "      <td id=\"T_bfcde_row6_col3\" class=\"data row6 col3\" >72</td>\n",
       "      <td id=\"T_bfcde_row6_col4\" class=\"data row6 col4\" >91711</td>\n",
       "      <td id=\"T_bfcde_row6_col5\" class=\"data row6 col5\" >2</td>\n",
       "      <td id=\"T_bfcde_row6_col6\" class=\"data row6 col6\" >1.50</td>\n",
       "      <td id=\"T_bfcde_row6_col7\" class=\"data row6 col7\" >2</td>\n",
       "      <td id=\"T_bfcde_row6_col8\" class=\"data row6 col8\" >0</td>\n",
       "      <td id=\"T_bfcde_row6_col9\" class=\"data row6 col9\" >0</td>\n",
       "      <td id=\"T_bfcde_row6_col10\" class=\"data row6 col10\" >0</td>\n",
       "      <td id=\"T_bfcde_row6_col11\" class=\"data row6 col11\" >0</td>\n",
       "      <td id=\"T_bfcde_row6_col12\" class=\"data row6 col12\" >1</td>\n",
       "      <td id=\"T_bfcde_row6_col13\" class=\"data row6 col13\" >0</td>\n",
       "    </tr>\n",
       "    <tr>\n",
       "      <th id=\"T_bfcde_level0_row7\" class=\"row_heading level0 row7\" >7</th>\n",
       "      <td id=\"T_bfcde_row7_col0\" class=\"data row7 col0\" >8</td>\n",
       "      <td id=\"T_bfcde_row7_col1\" class=\"data row7 col1\" >50</td>\n",
       "      <td id=\"T_bfcde_row7_col2\" class=\"data row7 col2\" >24</td>\n",
       "      <td id=\"T_bfcde_row7_col3\" class=\"data row7 col3\" >22</td>\n",
       "      <td id=\"T_bfcde_row7_col4\" class=\"data row7 col4\" >93943</td>\n",
       "      <td id=\"T_bfcde_row7_col5\" class=\"data row7 col5\" >1</td>\n",
       "      <td id=\"T_bfcde_row7_col6\" class=\"data row7 col6\" >0.30</td>\n",
       "      <td id=\"T_bfcde_row7_col7\" class=\"data row7 col7\" >3</td>\n",
       "      <td id=\"T_bfcde_row7_col8\" class=\"data row7 col8\" >0</td>\n",
       "      <td id=\"T_bfcde_row7_col9\" class=\"data row7 col9\" >0</td>\n",
       "      <td id=\"T_bfcde_row7_col10\" class=\"data row7 col10\" >0</td>\n",
       "      <td id=\"T_bfcde_row7_col11\" class=\"data row7 col11\" >0</td>\n",
       "      <td id=\"T_bfcde_row7_col12\" class=\"data row7 col12\" >0</td>\n",
       "      <td id=\"T_bfcde_row7_col13\" class=\"data row7 col13\" >1</td>\n",
       "    </tr>\n",
       "    <tr>\n",
       "      <th id=\"T_bfcde_level0_row8\" class=\"row_heading level0 row8\" >8</th>\n",
       "      <td id=\"T_bfcde_row8_col0\" class=\"data row8 col0\" >9</td>\n",
       "      <td id=\"T_bfcde_row8_col1\" class=\"data row8 col1\" >35</td>\n",
       "      <td id=\"T_bfcde_row8_col2\" class=\"data row8 col2\" >10</td>\n",
       "      <td id=\"T_bfcde_row8_col3\" class=\"data row8 col3\" >81</td>\n",
       "      <td id=\"T_bfcde_row8_col4\" class=\"data row8 col4\" >90089</td>\n",
       "      <td id=\"T_bfcde_row8_col5\" class=\"data row8 col5\" >3</td>\n",
       "      <td id=\"T_bfcde_row8_col6\" class=\"data row8 col6\" >0.60</td>\n",
       "      <td id=\"T_bfcde_row8_col7\" class=\"data row8 col7\" >2</td>\n",
       "      <td id=\"T_bfcde_row8_col8\" class=\"data row8 col8\" >104</td>\n",
       "      <td id=\"T_bfcde_row8_col9\" class=\"data row8 col9\" >0</td>\n",
       "      <td id=\"T_bfcde_row8_col10\" class=\"data row8 col10\" >0</td>\n",
       "      <td id=\"T_bfcde_row8_col11\" class=\"data row8 col11\" >0</td>\n",
       "      <td id=\"T_bfcde_row8_col12\" class=\"data row8 col12\" >1</td>\n",
       "      <td id=\"T_bfcde_row8_col13\" class=\"data row8 col13\" >0</td>\n",
       "    </tr>\n",
       "    <tr>\n",
       "      <th id=\"T_bfcde_level0_row9\" class=\"row_heading level0 row9\" >9</th>\n",
       "      <td id=\"T_bfcde_row9_col0\" class=\"data row9 col0\" >10</td>\n",
       "      <td id=\"T_bfcde_row9_col1\" class=\"data row9 col1\" >34</td>\n",
       "      <td id=\"T_bfcde_row9_col2\" class=\"data row9 col2\" >9</td>\n",
       "      <td id=\"T_bfcde_row9_col3\" class=\"data row9 col3\" >180</td>\n",
       "      <td id=\"T_bfcde_row9_col4\" class=\"data row9 col4\" >93023</td>\n",
       "      <td id=\"T_bfcde_row9_col5\" class=\"data row9 col5\" >1</td>\n",
       "      <td id=\"T_bfcde_row9_col6\" class=\"data row9 col6\" >8.90</td>\n",
       "      <td id=\"T_bfcde_row9_col7\" class=\"data row9 col7\" >3</td>\n",
       "      <td id=\"T_bfcde_row9_col8\" class=\"data row9 col8\" >0</td>\n",
       "      <td id=\"T_bfcde_row9_col9\" class=\"data row9 col9\" >1</td>\n",
       "      <td id=\"T_bfcde_row9_col10\" class=\"data row9 col10\" >0</td>\n",
       "      <td id=\"T_bfcde_row9_col11\" class=\"data row9 col11\" >0</td>\n",
       "      <td id=\"T_bfcde_row9_col12\" class=\"data row9 col12\" >0</td>\n",
       "      <td id=\"T_bfcde_row9_col13\" class=\"data row9 col13\" >0</td>\n",
       "    </tr>\n",
       "  </tbody>\n",
       "</table>\n"
      ],
      "text/plain": [
       "<pandas.io.formats.style.Styler at 0x7fbafe977730>"
      ]
     },
     "execution_count": 168,
     "metadata": {},
     "output_type": "execute_result"
    }
   ],
   "source": [
    "data = pd.read_excel(\"data/Bank_Personal_Loan_Modelling.xlsx\",\n",
    "                     sheet_name = \"Data\")\n",
    "\n",
    "data.head(10).style.set_precision(2). \\\n",
    "                    set_properties(**{\"min-width\": \"60px\"}). \\\n",
    "                    set_properties(**{\"color\": \"#111111\"}). \\\n",
    "                    set_properties(**{\"text-align\": \"center\"}). \\\n",
    "                    set_table_styles([\n",
    "                          {\"selector\": \"th\",\n",
    "                           \"props\": [(\"font-weight\", \"bold\"),\n",
    "                                     (\"font-size\", \"12px\"),\n",
    "                                     (\"text-align\", \"center\")]},\n",
    "                          {\"selector\": \"tr:nth-child(even)\",\n",
    "                           \"props\": [(\"background-color\", \"#f2f2f2\")]},\n",
    "                          {\"selector\": \"tr:nth-child(odd)\",\n",
    "                           \"props\": [(\"background-color\", \"#fdfdfd\")]},\n",
    "                          {\"selector\": \"tr:hover\",\n",
    "                           \"props\": [(\"background-color\", \"#bcbcbc\")]}])"
   ]
  },
  {
   "cell_type": "markdown",
   "metadata": {
    "papermill": {
     "duration": 0.045394,
     "end_time": "2020-10-07T13:07:38.135343",
     "exception": false,
     "start_time": "2020-10-07T13:07:38.089949",
     "status": "completed"
    },
    "tags": []
   },
   "source": [
    "There are 12 features. The aim is to construct a model that can identify potential customers who have higher probability of **purchasing loan**. Output column is **Personal Loan**. Features are detailed below:\n",
    "\n",
    "**Age** &nbsp;&nbsp; Customer's age\n",
    "<br>\n",
    "**Experience** &nbsp;&nbsp; Number of years of professional experience\n",
    "<br>\n",
    "**Income** &nbsp;&nbsp; Annual income of the customer\n",
    "<br>\n",
    "**ZIPCode** &nbsp;&nbsp; Home Address ZIP code\n",
    "<br>\n",
    "**Family** &nbsp;&nbsp; Family size of the customer\n",
    "<br>\n",
    "**CCAvg** &nbsp;&nbsp; Average spending on credit cards per month\n",
    "<br>\n",
    "**Education** &nbsp;&nbsp; Education Level. 1: Undergrad; 2: Graduate; 3: Advanced/Professional\n",
    "<br>\n",
    "**Mortgage** &nbsp;&nbsp; Value of house mortgage if any\n",
    "<br>\n",
    "**Securities Account** &nbsp;&nbsp; Does the customer have a securities account with the bank?\n",
    "<br>\n",
    "**CD Account** &nbsp;&nbsp; Does the customer have a certificate of deposit (CD) account with the bank?\n",
    "<br>\n",
    "**Online** &nbsp;&nbsp; Does the customer use internet banking facilities?\n",
    "<br>\n",
    "**CreditCard** &nbsp;&nbsp; Does the customer uses a credit card issued by UniversalBank?\n",
    "<br>\n",
    "**Personal Loan** &nbsp;&nbsp; Did this customer accept the personal loan offered in the last campaign?\n",
    "<br>\n",
    "\n",
    "ID column is dropped. Features are assigned to **data_X** and corresponding labels to **data_Y**. **Pandas info** shows column (feature) data types and number of non-null values.  "
   ]
  },
  {
   "cell_type": "code",
   "execution_count": 169,
   "metadata": {
    "execution": {
     "iopub.execute_input": "2020-10-07T13:07:38.244218Z",
     "iopub.status.busy": "2020-10-07T13:07:38.243399Z",
     "iopub.status.idle": "2020-10-07T13:07:38.264020Z",
     "shell.execute_reply": "2020-10-07T13:07:38.264570Z"
    },
    "papermill": {
     "duration": 0.084046,
     "end_time": "2020-10-07T13:07:38.264730",
     "exception": false,
     "start_time": "2020-10-07T13:07:38.180684",
     "status": "completed"
    },
    "tags": []
   },
   "outputs": [
    {
     "name": "stdout",
     "output_type": "stream",
     "text": [
      "data_X info:\n",
      "\n",
      "<class 'pandas.core.frame.DataFrame'>\n",
      "RangeIndex: 5000 entries, 0 to 4999\n",
      "Data columns (total 12 columns):\n",
      " #   Column              Non-Null Count  Dtype  \n",
      "---  ------              --------------  -----  \n",
      " 0   Age                 5000 non-null   int64  \n",
      " 1   Experience          5000 non-null   int64  \n",
      " 2   Income              5000 non-null   int64  \n",
      " 3   ZIP Code            5000 non-null   int64  \n",
      " 4   Family              5000 non-null   int64  \n",
      " 5   CCAvg               5000 non-null   float64\n",
      " 6   Education           5000 non-null   int64  \n",
      " 7   Mortgage            5000 non-null   int64  \n",
      " 8   Securities Account  5000 non-null   int64  \n",
      " 9   CD Account          5000 non-null   int64  \n",
      " 10  Online              5000 non-null   int64  \n",
      " 11  CreditCard          5000 non-null   int64  \n",
      "dtypes: float64(1), int64(11)\n",
      "memory usage: 468.9 KB\n",
      "\n",
      "data_Y info:\n",
      "\n",
      "<class 'pandas.core.frame.DataFrame'>\n",
      "RangeIndex: 5000 entries, 0 to 4999\n",
      "Data columns (total 1 columns):\n",
      " #   Column         Non-Null Count  Dtype\n",
      "---  ------         --------------  -----\n",
      " 0   Personal Loan  5000 non-null   int64\n",
      "dtypes: int64(1)\n",
      "memory usage: 39.2 KB\n"
     ]
    }
   ],
   "source": [
    "data.drop(\"ID\", axis=1, inplace=True)\n",
    "\n",
    "# disable SettingWithCopyWarning\n",
    "pd.options.mode.chained_assignment = None\n",
    "\n",
    "data_X = data.loc[:, data.columns != \"Personal Loan\"]\n",
    "data_Y = data[[\"Personal Loan\"]]\n",
    "\n",
    "print(\"data_X info:\\n\")\n",
    "data_X.info()\n",
    "print(\"\\ndata_Y info:\\n\")\n",
    "data_Y.info()"
   ]
  },
  {
   "cell_type": "markdown",
   "metadata": {
    "papermill": {
     "duration": 0.044771,
     "end_time": "2020-10-07T13:07:38.354873",
     "exception": false,
     "start_time": "2020-10-07T13:07:38.310102",
     "status": "completed"
    },
    "tags": []
   },
   "source": [
    "Dataset has 5000 rows (training samples). All features seem numeric, we will return to this issue as we inspect each feature. And there aren't any null values.\n",
    "\n",
    "There is one special case about **ZIP Code** feature. Although it seems to be numeric, it is in fact categorical. Different ZIP codes indicates different addresses. If we look at the number of unique values it takes, we see high cardinality."
   ]
  },
  {
   "cell_type": "code",
   "execution_count": 170,
   "metadata": {
    "execution": {
     "iopub.execute_input": "2020-10-07T13:07:38.452509Z",
     "iopub.status.busy": "2020-10-07T13:07:38.451459Z",
     "iopub.status.idle": "2020-10-07T13:07:38.457374Z",
     "shell.execute_reply": "2020-10-07T13:07:38.456654Z"
    },
    "papermill": {
     "duration": 0.057399,
     "end_time": "2020-10-07T13:07:38.457517",
     "exception": false,
     "start_time": "2020-10-07T13:07:38.400118",
     "status": "completed"
    },
    "tags": []
   },
   "outputs": [
    {
     "data": {
      "text/plain": [
       "467"
      ]
     },
     "execution_count": 170,
     "metadata": {},
     "output_type": "execute_result"
    }
   ],
   "source": [
    "data_X[\"ZIP Code\"].nunique()"
   ]
  },
  {
   "cell_type": "markdown",
   "metadata": {
    "papermill": {
     "duration": 0.046675,
     "end_time": "2020-10-07T13:07:38.551388",
     "exception": false,
     "start_time": "2020-10-07T13:07:38.504713",
     "status": "completed"
    },
    "tags": []
   },
   "source": [
    "We can deem ZIP Code as uninformative in this case and drop it."
   ]
  },
  {
   "cell_type": "code",
   "execution_count": 171,
   "metadata": {
    "execution": {
     "iopub.execute_input": "2020-10-07T13:07:38.651604Z",
     "iopub.status.busy": "2020-10-07T13:07:38.650619Z",
     "iopub.status.idle": "2020-10-07T13:07:38.653993Z",
     "shell.execute_reply": "2020-10-07T13:07:38.653232Z"
    },
    "papermill": {
     "duration": 0.056733,
     "end_time": "2020-10-07T13:07:38.654118",
     "exception": false,
     "start_time": "2020-10-07T13:07:38.597385",
     "status": "completed"
    },
    "tags": []
   },
   "outputs": [],
   "source": [
    "data_X.drop(\"ZIP Code\", axis=1, inplace=True)"
   ]
  },
  {
   "cell_type": "markdown",
   "metadata": {
    "papermill": {
     "duration": 0.04626,
     "end_time": "2020-10-07T13:07:38.747021",
     "exception": false,
     "start_time": "2020-10-07T13:07:38.700761",
     "status": "completed"
    },
    "tags": []
   },
   "source": [
    "Let's see number of classes in the output."
   ]
  },
  {
   "cell_type": "code",
   "execution_count": 172,
   "metadata": {
    "execution": {
     "iopub.execute_input": "2020-10-07T13:07:38.849469Z",
     "iopub.status.busy": "2020-10-07T13:07:38.848597Z",
     "iopub.status.idle": "2020-10-07T13:07:38.853546Z",
     "shell.execute_reply": "2020-10-07T13:07:38.852901Z"
    },
    "papermill": {
     "duration": 0.060455,
     "end_time": "2020-10-07T13:07:38.853681",
     "exception": false,
     "start_time": "2020-10-07T13:07:38.793226",
     "status": "completed"
    },
    "tags": []
   },
   "outputs": [
    {
     "data": {
      "text/plain": [
       "0    4520\n",
       "1     480\n",
       "Name: Personal Loan, dtype: int64"
      ]
     },
     "execution_count": 172,
     "metadata": {},
     "output_type": "execute_result"
    }
   ],
   "source": [
    "data_Y[\"Personal Loan\"].value_counts()"
   ]
  },
  {
   "cell_type": "markdown",
   "metadata": {
    "papermill": {
     "duration": 0.04683,
     "end_time": "2020-10-07T13:07:38.947584",
     "exception": false,
     "start_time": "2020-10-07T13:07:38.900754",
     "status": "completed"
    },
    "tags": []
   },
   "source": [
    "There are 2 classes and class ratio is approximately 1:9 which means our dataset is imbalanced."
   ]
  },
  {
   "cell_type": "markdown",
   "metadata": {
    "papermill": {
     "duration": 0.047035,
     "end_time": "2020-10-07T13:07:39.041235",
     "exception": false,
     "start_time": "2020-10-07T13:07:38.994200",
     "status": "completed"
    },
    "tags": []
   },
   "source": [
    "## Split Data\n",
    "\n",
    "Dataset is divided into train and test sets. We use stratify parameter of train_test_split function to get the same class distribution across train and test sets."
   ]
  },
  {
   "cell_type": "code",
   "execution_count": 173,
   "metadata": {
    "execution": {
     "iopub.execute_input": "2020-10-07T13:07:39.176737Z",
     "iopub.status.busy": "2020-10-07T13:07:39.171632Z",
     "iopub.status.idle": "2020-10-07T13:07:39.192715Z",
     "shell.execute_reply": "2020-10-07T13:07:39.191949Z"
    },
    "papermill": {
     "duration": 0.104026,
     "end_time": "2020-10-07T13:07:39.192841",
     "exception": false,
     "start_time": "2020-10-07T13:07:39.088815",
     "status": "completed"
    },
    "tags": []
   },
   "outputs": [],
   "source": [
    "train_X, test_X, train_Y, test_Y = train_test_split(data_X, data_Y,\n",
    "                                                    test_size=0.2,\n",
    "                                                    stratify=data_Y,\n",
    "                                                    random_state=0)\n",
    "\n",
    "\n",
    "train_X.reset_index(drop=True, inplace=True);\n",
    "test_X.reset_index(drop=True, inplace=True);\n",
    "train_Y.reset_index(drop=True, inplace=True);\n",
    "test_Y.reset_index(drop=True, inplace=True);"
   ]
  },
  {
   "cell_type": "markdown",
   "metadata": {
    "papermill": {
     "duration": 0.047057,
     "end_time": "2020-10-07T13:07:39.287416",
     "exception": false,
     "start_time": "2020-10-07T13:07:39.240359",
     "status": "completed"
    },
    "tags": []
   },
   "source": [
    "## Visualization and Outlier Check\n",
    "\n",
    "**Outliers** degrade the learning performance. Outlier analysis is performed for each feature one-by-one. We use **quartile analysis** for outlier detection. For each feature, there are two plots below. On the left, there are two normalized histograms, one for each value of target variable. On the right, there is a box plot of the same feature. Both of them are analyzed together to get an idea about the outliers. From this point on, lower whisker of the boxplot is denoted as LW and upper whisker is denoted as UW."
   ]
  },
  {
   "cell_type": "code",
   "execution_count": 174,
   "metadata": {
    "execution": {
     "iopub.execute_input": "2020-10-07T13:07:39.396474Z",
     "iopub.status.busy": "2020-10-07T13:07:39.395659Z",
     "iopub.status.idle": "2020-10-07T13:07:39.399321Z",
     "shell.execute_reply": "2020-10-07T13:07:39.398593Z"
    },
    "papermill": {
     "duration": 0.064776,
     "end_time": "2020-10-07T13:07:39.399464",
     "exception": false,
     "start_time": "2020-10-07T13:07:39.334688",
     "status": "completed"
    },
    "tags": []
   },
   "outputs": [],
   "source": [
    "def plots(feature):\n",
    "    fig = plt.figure(constrained_layout = True, figsize=(10,3))\n",
    "    gs = gridspec.GridSpec(nrows=1, ncols=4, figure=fig)\n",
    "\n",
    "    ax1 = fig.add_subplot(gs[0,:3])    \n",
    "    sea.distplot(train_X.loc[train_Y[\"Personal Loan\"]==0,feature],\n",
    "                 kde = False, color = \"#004a4d\", norm_hist=False,\n",
    "                 hist_kws = dict(alpha=0.8), bins=40,\n",
    "                 label=\"Not Loan Customer\", ax=ax1);\n",
    "    sea.distplot(train_X.loc[train_Y[\"Personal Loan\"]==1,feature],\n",
    "                 kde = False, color = \"#7d0101\", norm_hist=False,\n",
    "                 hist_kws = dict(alpha=0.6), bins=40,\n",
    "                 label=\"Loan Customer\", ax=ax1);\n",
    "    ax2 = fig.add_subplot(gs[0,3])    \n",
    "    sea.boxplot(train_X[feature], orient=\"v\", color = \"#989100\",\n",
    "                width = 0.2, ax=ax2);\n",
    "    \n",
    "    ax1.legend(loc=\"upper right\");"
   ]
  },
  {
   "cell_type": "markdown",
   "metadata": {
    "papermill": {
     "duration": 0.048039,
     "end_time": "2020-10-07T13:07:39.495959",
     "exception": false,
     "start_time": "2020-10-07T13:07:39.447920",
     "status": "completed"
    },
    "tags": []
   },
   "source": [
    "### Feature 0 - Age\n",
    "\n",
    "First one is **Age** feature."
   ]
  },
  {
   "cell_type": "code",
   "execution_count": 175,
   "metadata": {
    "execution": {
     "iopub.execute_input": "2020-10-07T13:07:39.597858Z",
     "iopub.status.busy": "2020-10-07T13:07:39.597093Z",
     "iopub.status.idle": "2020-10-07T13:07:40.590213Z",
     "shell.execute_reply": "2020-10-07T13:07:40.589492Z"
    },
    "papermill": {
     "duration": 1.045808,
     "end_time": "2020-10-07T13:07:40.590344",
     "exception": false,
     "start_time": "2020-10-07T13:07:39.544536",
     "status": "completed"
    },
    "tags": []
   },
   "outputs": [
    {
     "data": {
      "image/png": "[encoded data removed]",
      "text/plain": [
       "<Figure size 720x216 with 2 Axes>"
      ]
     },
     "metadata": {},
     "output_type": "display_data"
    }
   ],
   "source": [
    "plots(\"Age\")"
   ]
  },
  {
   "cell_type": "markdown",
   "metadata": {
    "papermill": {
     "duration": 0.047672,
     "end_time": "2020-10-07T13:07:40.686334",
     "exception": false,
     "start_time": "2020-10-07T13:07:40.638662",
     "status": "completed"
    },
    "tags": []
   },
   "source": [
    "There aren't any outliers for **Age** feature."
   ]
  },
  {
   "cell_type": "markdown",
   "metadata": {
    "papermill": {
     "duration": 0.04782,
     "end_time": "2020-10-07T13:07:40.782696",
     "exception": false,
     "start_time": "2020-10-07T13:07:40.734876",
     "status": "completed"
    },
    "tags": []
   },
   "source": [
    "### Feature 1 - Experience"
   ]
  },
  {
   "cell_type": "code",
   "execution_count": 176,
   "metadata": {
    "execution": {
     "iopub.execute_input": "2020-10-07T13:07:40.886260Z",
     "iopub.status.busy": "2020-10-07T13:07:40.885377Z",
     "iopub.status.idle": "2020-10-07T13:07:41.808060Z",
     "shell.execute_reply": "2020-10-07T13:07:41.807280Z"
    },
    "papermill": {
     "duration": 0.976885,
     "end_time": "2020-10-07T13:07:41.808187",
     "exception": false,
     "start_time": "2020-10-07T13:07:40.831302",
     "status": "completed"
    },
    "tags": []
   },
   "outputs": [
    {
     "data": {
      "image/png": "[encoded data removed]",
      "text/plain": [
       "<Figure size 720x216 with 2 Axes>"
      ]
     },
     "metadata": {},
     "output_type": "display_data"
    }
   ],
   "source": [
    "plots(\"Experience\")"
   ]
  },
  {
   "cell_type": "markdown",
   "metadata": {
    "papermill": {
     "duration": 0.048779,
     "end_time": "2020-10-07T13:07:41.906262",
     "exception": false,
     "start_time": "2020-10-07T13:07:41.857483",
     "status": "completed"
    },
    "tags": []
   },
   "source": [
    "There aren't any outliers for **Experience** feature."
   ]
  },
  {
   "cell_type": "markdown",
   "metadata": {
    "papermill": {
     "duration": 0.048868,
     "end_time": "2020-10-07T13:07:42.004402",
     "exception": false,
     "start_time": "2020-10-07T13:07:41.955534",
     "status": "completed"
    },
    "tags": []
   },
   "source": [
    "### Feature 2 - Income"
   ]
  },
  {
   "cell_type": "code",
   "execution_count": 177,
   "metadata": {
    "execution": {
     "iopub.execute_input": "2020-10-07T13:07:42.120002Z",
     "iopub.status.busy": "2020-10-07T13:07:42.117383Z",
     "iopub.status.idle": "2020-10-07T13:07:43.042256Z",
     "shell.execute_reply": "2020-10-07T13:07:43.041669Z"
    },
    "papermill": {
     "duration": 0.98691,
     "end_time": "2020-10-07T13:07:43.042394",
     "exception": false,
     "start_time": "2020-10-07T13:07:42.055484",
     "status": "completed"
    },
    "tags": []
   },
   "outputs": [
    {
     "data": {
      "image/png": "[encoded data removed]",
      "text/plain": [
       "<Figure size 720x216 with 2 Axes>"
      ]
     },
     "metadata": {},
     "output_type": "display_data"
    }
   ],
   "source": [
    "plots(\"Income\")"
   ]
  },
  {
   "cell_type": "markdown",
   "metadata": {
    "papermill": {
     "duration": 0.051139,
     "end_time": "2020-10-07T13:07:43.145050",
     "exception": false,
     "start_time": "2020-10-07T13:07:43.093911",
     "status": "completed"
    },
    "tags": []
   },
   "source": [
    "Distribution of **Income** feature is highly skewed. The samples higher than UW will be replaced with 95th quantile."
   ]
  },
  {
   "cell_type": "code",
   "execution_count": 178,
   "metadata": {
    "execution": {
     "iopub.execute_input": "2020-10-07T13:07:43.258051Z",
     "iopub.status.busy": "2020-10-07T13:07:43.256784Z",
     "iopub.status.idle": "2020-10-07T13:07:43.264699Z",
     "shell.execute_reply": "2020-10-07T13:07:43.263934Z"
    },
    "papermill": {
     "duration": 0.068538,
     "end_time": "2020-10-07T13:07:43.264823",
     "exception": false,
     "start_time": "2020-10-07T13:07:43.196285",
     "status": "completed"
    },
    "tags": []
   },
   "outputs": [],
   "source": [
    "Q1 = train_X[\"Income\"].quantile(0.25)\n",
    "Q3 = train_X[\"Income\"].quantile(0.75)\n",
    "q95th = train_X[\"Income\"].quantile(0.95)\n",
    "IQR = Q3 - Q1\n",
    "UW = Q3 + 1.5*IQR\n",
    "\n",
    "train_X[\"Income\"] = np.where(train_X[\"Income\"] > UW, q95th, train_X[\"Income\"])"
   ]
  },
  {
   "cell_type": "markdown",
   "metadata": {
    "papermill": {
     "duration": 0.068749,
     "end_time": "2020-10-07T13:07:43.397339",
     "exception": false,
     "start_time": "2020-10-07T13:07:43.328590",
     "status": "completed"
    },
    "tags": []
   },
   "source": [
    "### Feature 3 - Family"
   ]
  },
  {
   "cell_type": "code",
   "execution_count": 179,
   "metadata": {
    "execution": {
     "iopub.execute_input": "2020-10-07T13:07:43.534163Z",
     "iopub.status.busy": "2020-10-07T13:07:43.533047Z",
     "iopub.status.idle": "2020-10-07T13:07:44.503095Z",
     "shell.execute_reply": "2020-10-07T13:07:44.502361Z"
    },
    "papermill": {
     "duration": 1.043152,
     "end_time": "2020-10-07T13:07:44.503218",
     "exception": false,
     "start_time": "2020-10-07T13:07:43.460066",
     "status": "completed"
    },
    "tags": []
   },
   "outputs": [
    {
     "data": {
      "image/png": "[encoded data removed]",
      "text/plain": [
       "<Figure size 720x216 with 2 Axes>"
      ]
     },
     "metadata": {},
     "output_type": "display_data"
    }
   ],
   "source": [
    "plots(\"Family\")"
   ]
  },
  {
   "cell_type": "markdown",
   "metadata": {
    "papermill": {
     "duration": 0.051498,
     "end_time": "2020-10-07T13:07:44.606594",
     "exception": false,
     "start_time": "2020-10-07T13:07:44.555096",
     "status": "completed"
    },
    "tags": []
   },
   "source": [
    "Family takes 4 discrete values. It's an ordinal categorical variable and there aren't any outliers."
   ]
  },
  {
   "cell_type": "markdown",
   "metadata": {
    "papermill": {
     "duration": 0.05167,
     "end_time": "2020-10-07T13:07:44.710312",
     "exception": false,
     "start_time": "2020-10-07T13:07:44.658642",
     "status": "completed"
    },
    "tags": []
   },
   "source": [
    "### Feature 4 - CCAvg"
   ]
  },
  {
   "cell_type": "code",
   "execution_count": 180,
   "metadata": {
    "execution": {
     "iopub.execute_input": "2020-10-07T13:07:44.826739Z",
     "iopub.status.busy": "2020-10-07T13:07:44.825617Z",
     "iopub.status.idle": "2020-10-07T13:07:46.026057Z",
     "shell.execute_reply": "2020-10-07T13:07:46.026653Z"
    },
    "papermill": {
     "duration": 1.264184,
     "end_time": "2020-10-07T13:07:46.026822",
     "exception": false,
     "start_time": "2020-10-07T13:07:44.762638",
     "status": "completed"
    },
    "tags": []
   },
   "outputs": [
    {
     "data": {
      "image/png": "[encoded data removed]",
      "text/plain": [
       "<Figure size 720x216 with 2 Axes>"
      ]
     },
     "metadata": {},
     "output_type": "display_data"
    }
   ],
   "source": [
    "plots(\"CCAvg\")"
   ]
  },
  {
   "cell_type": "markdown",
   "metadata": {
    "papermill": {
     "duration": 0.053427,
     "end_time": "2020-10-07T13:07:46.133721",
     "exception": false,
     "start_time": "2020-10-07T13:07:46.080294",
     "status": "completed"
    },
    "tags": []
   },
   "source": [
    "Distribution of CCAvg feature is highly skewed. The samples higher than UW will be replaced with 95th quantile."
   ]
  },
  {
   "cell_type": "code",
   "execution_count": 181,
   "metadata": {
    "execution": {
     "iopub.execute_input": "2020-10-07T13:07:46.249682Z",
     "iopub.status.busy": "2020-10-07T13:07:46.248443Z",
     "iopub.status.idle": "2020-10-07T13:07:46.256244Z",
     "shell.execute_reply": "2020-10-07T13:07:46.255512Z"
    },
    "papermill": {
     "duration": 0.069665,
     "end_time": "2020-10-07T13:07:46.256392",
     "exception": false,
     "start_time": "2020-10-07T13:07:46.186727",
     "status": "completed"
    },
    "tags": []
   },
   "outputs": [],
   "source": [
    "Q1 = train_X[\"CCAvg\"].quantile(0.25)\n",
    "Q3 = train_X[\"CCAvg\"].quantile(0.75)\n",
    "q95th = train_X[\"CCAvg\"].quantile(0.95)\n",
    "IQR = Q3 - Q1\n",
    "UW = Q3 + 1.5*IQR\n",
    "\n",
    "train_X[\"CCAvg\"] = np.where(train_X[\"CCAvg\"] > UW, q95th, train_X[\"CCAvg\"])"
   ]
  },
  {
   "cell_type": "markdown",
   "metadata": {
    "papermill": {
     "duration": 0.053206,
     "end_time": "2020-10-07T13:07:46.365001",
     "exception": false,
     "start_time": "2020-10-07T13:07:46.311795",
     "status": "completed"
    },
    "tags": []
   },
   "source": [
    "### Feature 5 - Education"
   ]
  },
  {
   "cell_type": "code",
   "execution_count": 182,
   "metadata": {
    "execution": {
     "iopub.execute_input": "2020-10-07T13:07:46.484721Z",
     "iopub.status.busy": "2020-10-07T13:07:46.483077Z",
     "iopub.status.idle": "2020-10-07T13:07:47.520143Z",
     "shell.execute_reply": "2020-10-07T13:07:47.519509Z"
    },
    "papermill": {
     "duration": 1.101409,
     "end_time": "2020-10-07T13:07:47.520279",
     "exception": false,
     "start_time": "2020-10-07T13:07:46.418870",
     "status": "completed"
    },
    "tags": []
   },
   "outputs": [
    {
     "data": {
      "image/png": "[encoded data removed]",
      "text/plain": [
       "<Figure size 720x216 with 2 Axes>"
      ]
     },
     "metadata": {},
     "output_type": "display_data"
    }
   ],
   "source": [
    "plots(\"Education\")"
   ]
  },
  {
   "cell_type": "markdown",
   "metadata": {
    "papermill": {
     "duration": 0.053743,
     "end_time": "2020-10-07T13:07:47.628697",
     "exception": false,
     "start_time": "2020-10-07T13:07:47.574954",
     "status": "completed"
    },
    "tags": []
   },
   "source": [
    "There aren't any outliers for **Education** feature. In fact, Education is a categorical feature already converted to integer. In this case, integer encoding is suitable beacuse there is an ordinal relationship among education levels."
   ]
  },
  {
   "cell_type": "markdown",
   "metadata": {
    "papermill": {
     "duration": 0.0536,
     "end_time": "2020-10-07T13:07:47.737189",
     "exception": false,
     "start_time": "2020-10-07T13:07:47.683589",
     "status": "completed"
    },
    "tags": []
   },
   "source": [
    "### Feature 6 - Mortgage"
   ]
  },
  {
   "cell_type": "code",
   "execution_count": 183,
   "metadata": {
    "execution": {
     "iopub.execute_input": "2020-10-07T13:07:47.856699Z",
     "iopub.status.busy": "2020-10-07T13:07:47.855838Z",
     "iopub.status.idle": "2020-10-07T13:07:48.815146Z",
     "shell.execute_reply": "2020-10-07T13:07:48.814547Z"
    },
    "papermill": {
     "duration": 1.024224,
     "end_time": "2020-10-07T13:07:48.815272",
     "exception": false,
     "start_time": "2020-10-07T13:07:47.791048",
     "status": "completed"
    },
    "tags": []
   },
   "outputs": [
    {
     "data": {
      "image/png": "[encoded data removed]",
      "text/plain": [
       "<Figure size 720x216 with 2 Axes>"
      ]
     },
     "metadata": {},
     "output_type": "display_data"
    }
   ],
   "source": [
    "plots(\"Mortgage\")"
   ]
  },
  {
   "cell_type": "markdown",
   "metadata": {
    "papermill": {
     "duration": 0.055371,
     "end_time": "2020-10-07T13:07:48.926213",
     "exception": false,
     "start_time": "2020-10-07T13:07:48.870842",
     "status": "completed"
    },
    "tags": []
   },
   "source": [
    "A lot of customers doesn't have mortgage and the right side of the distribution is almost flat. We can construct an ordinal categorical feature **Mortgage_Int** using Mortgage feature. Then we drop **Mortgage** feature. We apply the same procedure to also test_X."
   ]
  },
  {
   "cell_type": "code",
   "execution_count": 184,
   "metadata": {
    "execution": {
     "iopub.execute_input": "2020-10-07T13:07:49.049367Z",
     "iopub.status.busy": "2020-10-07T13:07:49.048216Z",
     "iopub.status.idle": "2020-10-07T13:07:49.060657Z",
     "shell.execute_reply": "2020-10-07T13:07:49.059970Z"
    },
    "papermill": {
     "duration": 0.079497,
     "end_time": "2020-10-07T13:07:49.060784",
     "exception": false,
     "start_time": "2020-10-07T13:07:48.981287",
     "status": "completed"
    },
    "tags": []
   },
   "outputs": [],
   "source": [
    "train_X[\"Mortgage_Int\"] = pd.cut(train_X[\"Mortgage\"],\n",
    "                                bins=[0,100,200,300,400,500,600,700],\n",
    "                                labels=[0,1,2,3,4,5,6],\n",
    "                                include_lowest=True)\n",
    "\n",
    "train_X.drop(\"Mortgage\", axis=1, inplace=True)\n",
    "\n",
    "test_X[\"Mortgage_Int\"] = pd.cut(test_X[\"Mortgage\"],\n",
    "                                bins=[0,100,200,300,400,500,600,700],\n",
    "                                labels=[0,1,2,3,4,5,6],\n",
    "                                include_lowest=True)\n",
    "\n",
    "test_X.drop(\"Mortgage\", axis=1, inplace=True)"
   ]
  },
  {
   "cell_type": "markdown",
   "metadata": {
    "papermill": {
     "duration": 0.05505,
     "end_time": "2020-10-07T13:07:49.172117",
     "exception": false,
     "start_time": "2020-10-07T13:07:49.117067",
     "status": "completed"
    },
    "tags": []
   },
   "source": [
    "### Feature 7 - Securities Account\n",
    "\n",
    "A customer may have a security account or not. Securities Account is a binary categorical feature and there is no need to make outlier analysis."
   ]
  },
  {
   "cell_type": "code",
   "execution_count": 185,
   "metadata": {
    "execution": {
     "iopub.execute_input": "2020-10-07T13:07:49.292846Z",
     "iopub.status.busy": "2020-10-07T13:07:49.291994Z",
     "iopub.status.idle": "2020-10-07T13:07:49.296700Z",
     "shell.execute_reply": "2020-10-07T13:07:49.296114Z"
    },
    "papermill": {
     "duration": 0.068337,
     "end_time": "2020-10-07T13:07:49.296824",
     "exception": false,
     "start_time": "2020-10-07T13:07:49.228487",
     "status": "completed"
    },
    "tags": []
   },
   "outputs": [
    {
     "data": {
      "text/plain": [
       "0    3589\n",
       "1     411\n",
       "Name: Securities Account, dtype: int64"
      ]
     },
     "execution_count": 185,
     "metadata": {},
     "output_type": "execute_result"
    }
   ],
   "source": [
    "train_X[\"Securities Account\"].value_counts()"
   ]
  },
  {
   "cell_type": "markdown",
   "metadata": {
    "papermill": {
     "duration": 0.056139,
     "end_time": "2020-10-07T13:07:49.410079",
     "exception": false,
     "start_time": "2020-10-07T13:07:49.353940",
     "status": "completed"
    },
    "tags": []
   },
   "source": [
    "### Feature 8 - CD Account\n",
    "\n",
    "A customer may have a CD account or not. CD Account is a binary categorical feature and there is no need to make outlier analysis."
   ]
  },
  {
   "cell_type": "code",
   "execution_count": 186,
   "metadata": {
    "execution": {
     "iopub.execute_input": "2020-10-07T13:07:49.531145Z",
     "iopub.status.busy": "2020-10-07T13:07:49.529927Z",
     "iopub.status.idle": "2020-10-07T13:07:49.535030Z",
     "shell.execute_reply": "2020-10-07T13:07:49.534387Z"
    },
    "papermill": {
     "duration": 0.068904,
     "end_time": "2020-10-07T13:07:49.535152",
     "exception": false,
     "start_time": "2020-10-07T13:07:49.466248",
     "status": "completed"
    },
    "tags": []
   },
   "outputs": [
    {
     "data": {
      "text/plain": [
       "0    3767\n",
       "1     233\n",
       "Name: CD Account, dtype: int64"
      ]
     },
     "execution_count": 186,
     "metadata": {},
     "output_type": "execute_result"
    }
   ],
   "source": [
    "train_X[\"CD Account\"].value_counts()"
   ]
  },
  {
   "cell_type": "markdown",
   "metadata": {
    "papermill": {
     "duration": 0.056341,
     "end_time": "2020-10-07T13:07:49.648302",
     "exception": false,
     "start_time": "2020-10-07T13:07:49.591961",
     "status": "completed"
    },
    "tags": []
   },
   "source": [
    "### Feature 9 - Online\n",
    "\n",
    "A customer may use internet banking or not. Online is a binary categorical feature and there is no need to make outlier analysis."
   ]
  },
  {
   "cell_type": "code",
   "execution_count": 187,
   "metadata": {
    "execution": {
     "iopub.execute_input": "2020-10-07T13:07:49.771551Z",
     "iopub.status.busy": "2020-10-07T13:07:49.770470Z",
     "iopub.status.idle": "2020-10-07T13:07:49.775345Z",
     "shell.execute_reply": "2020-10-07T13:07:49.774773Z"
    },
    "papermill": {
     "duration": 0.069658,
     "end_time": "2020-10-07T13:07:49.775493",
     "exception": false,
     "start_time": "2020-10-07T13:07:49.705835",
     "status": "completed"
    },
    "tags": []
   },
   "outputs": [
    {
     "data": {
      "text/plain": [
       "1    2354\n",
       "0    1646\n",
       "Name: Online, dtype: int64"
      ]
     },
     "execution_count": 187,
     "metadata": {},
     "output_type": "execute_result"
    }
   ],
   "source": [
    "train_X[\"Online\"].value_counts()"
   ]
  },
  {
   "cell_type": "markdown",
   "metadata": {
    "papermill": {
     "duration": 0.056506,
     "end_time": "2020-10-07T13:07:49.889231",
     "exception": false,
     "start_time": "2020-10-07T13:07:49.832725",
     "status": "completed"
    },
    "tags": []
   },
   "source": [
    "### Feature 10 - CreditCard\n",
    "\n",
    "A customer may have credit card or not. CreditCard is a binary categorical feature and there is no need to make outlier analysis."
   ]
  },
  {
   "cell_type": "code",
   "execution_count": 188,
   "metadata": {
    "execution": {
     "iopub.execute_input": "2020-10-07T13:07:50.012720Z",
     "iopub.status.busy": "2020-10-07T13:07:50.011581Z",
     "iopub.status.idle": "2020-10-07T13:07:50.016841Z",
     "shell.execute_reply": "2020-10-07T13:07:50.016238Z"
    },
    "papermill": {
     "duration": 0.070607,
     "end_time": "2020-10-07T13:07:50.016971",
     "exception": false,
     "start_time": "2020-10-07T13:07:49.946364",
     "status": "completed"
    },
    "tags": []
   },
   "outputs": [
    {
     "data": {
      "text/plain": [
       "0    2816\n",
       "1    1184\n",
       "Name: CreditCard, dtype: int64"
      ]
     },
     "execution_count": 188,
     "metadata": {},
     "output_type": "execute_result"
    }
   ],
   "source": [
    "train_X[\"CreditCard\"].value_counts()"
   ]
  },
  {
   "cell_type": "markdown",
   "metadata": {
    "papermill": {
     "duration": 0.057724,
     "end_time": "2020-10-07T13:07:50.185106",
     "exception": false,
     "start_time": "2020-10-07T13:07:50.127382",
     "status": "completed"
    },
    "tags": []
   },
   "source": [
    "## Standardization\n",
    "\n",
    "Input features are standardized to increase the learning performance. The aim is to transform each feature to have mean of 0 and standard deviation of 1."
   ]
  },
  {
   "cell_type": "code",
   "execution_count": 189,
   "metadata": {
    "execution": {
     "iopub.execute_input": "2020-10-07T13:07:50.313580Z",
     "iopub.status.busy": "2020-10-07T13:07:50.312388Z",
     "iopub.status.idle": "2020-10-07T13:07:50.324790Z",
     "shell.execute_reply": "2020-10-07T13:07:50.324049Z"
    },
    "papermill": {
     "duration": 0.081828,
     "end_time": "2020-10-07T13:07:50.324916",
     "exception": false,
     "start_time": "2020-10-07T13:07:50.243088",
     "status": "completed"
    },
    "tags": []
   },
   "outputs": [],
   "source": [
    "feature_names = train_X.columns\n",
    "\n",
    "scaler = StandardScaler()\n",
    "\n",
    "# fit to train_X\n",
    "scaler.fit(train_X)\n",
    "\n",
    "# transform train_X\n",
    "train_X = scaler.transform(train_X)\n",
    "train_X = pd.DataFrame(train_X, columns = feature_names)\n",
    "\n",
    "# transform test_X\n",
    "test_X = scaler.transform(test_X)\n",
    "test_X = pd.DataFrame(test_X, columns = feature_names)"
   ]
  },
  {
   "cell_type": "markdown",
   "metadata": {
    "papermill": {
     "duration": 0.058539,
     "end_time": "2020-10-07T13:07:50.442172",
     "exception": false,
     "start_time": "2020-10-07T13:07:50.383633",
     "status": "completed"
    },
    "tags": []
   },
   "source": [
    "## Correlation Matrix\n",
    "\n",
    "Now, we inspect the linear correlations between features and also between features and output. Pandas corr function is used to compute correlation matrix and Seaborn heatmap is used for plotting. The semicolon at the end of seaborn command is used to suppress the output other than the plot. Correlation is in interval [-1,1], so our colorbar is."
   ]
  },
  {
   "cell_type": "code",
   "execution_count": 190,
   "metadata": {
    "execution": {
     "iopub.execute_input": "2020-10-07T13:07:50.569450Z",
     "iopub.status.busy": "2020-10-07T13:07:50.568653Z",
     "iopub.status.idle": "2020-10-07T13:07:51.218148Z",
     "shell.execute_reply": "2020-10-07T13:07:51.217193Z"
    },
    "papermill": {
     "duration": 0.716648,
     "end_time": "2020-10-07T13:07:51.218288",
     "exception": false,
     "start_time": "2020-10-07T13:07:50.501640",
     "status": "completed"
    },
    "tags": []
   },
   "outputs": [
    {
     "data": {
      "image/png": "[encoded data removed]",
      "text/plain": [
       "<Figure size 720x576 with 2 Axes>"
      ]
     },
     "metadata": {},
     "output_type": "display_data"
    }
   ],
   "source": [
    "corr_matrix = pd.concat([train_X, train_Y], axis=1).corr()\n",
    "mask = np.triu(np.ones_like(corr_matrix, dtype=np.bool))\n",
    "\n",
    "plt.figure(figsize=(10,8))\n",
    "sea.heatmap(corr_matrix,annot=True, fmt=\".3f\",\n",
    "            vmin=-1, vmax=1, linewidth = 1,\n",
    "            center=0, mask=mask,cmap=\"RdBu_r\");"
   ]
  },
  {
   "cell_type": "markdown",
   "metadata": {
    "papermill": {
     "duration": 0.060392,
     "end_time": "2020-10-07T13:07:51.341362",
     "exception": false,
     "start_time": "2020-10-07T13:07:51.280970",
     "status": "completed"
    },
    "tags": []
   },
   "source": [
    "**Age** and **Experience** features have very high correlation, 0.99. It is also intuitively understandable that experience increases as age increases. Correlated features degrade the learning performance and causes instability on the models. We drop **Experience** feature from both **train_X** and **test_X**."
   ]
  },
  {
   "cell_type": "code",
   "execution_count": 191,
   "metadata": {
    "execution": {
     "iopub.execute_input": "2020-10-07T13:07:51.472084Z",
     "iopub.status.busy": "2020-10-07T13:07:51.471214Z",
     "iopub.status.idle": "2020-10-07T13:07:51.474682Z",
     "shell.execute_reply": "2020-10-07T13:07:51.473959Z"
    },
    "papermill": {
     "duration": 0.072525,
     "end_time": "2020-10-07T13:07:51.474810",
     "exception": false,
     "start_time": "2020-10-07T13:07:51.402285",
     "status": "completed"
    },
    "tags": []
   },
   "outputs": [],
   "source": [
    "train_X.drop(\"Experience\", axis=1, inplace=True)\n",
    "test_X.drop(\"Experience\", axis=1, inplace=True)"
   ]
  },
  {
   "cell_type": "markdown",
   "metadata": {
    "papermill": {
     "duration": 0.060001,
     "end_time": "2020-10-07T13:07:51.596054",
     "exception": false,
     "start_time": "2020-10-07T13:07:51.536053",
     "status": "completed"
    },
    "tags": []
   },
   "source": [
    "## Prepare Training Data for Meta Learner\n",
    "\n",
    "There are 2 base learners, **LogisticRegression** and **DecisionTreeClassifier** of scikit-learn. \n",
    "\n",
    "We use 5 fold repeated stratified cross validation and n_repeats is 2. There are 10 splits. In each split, 4 folds are used as training data and 1 fold is used as test data.\n",
    "\n",
    "Temporary base learners are trained on training set, make predictions on test set and then are discarded. Predictions on 10 test sets are concatenated vertically and becomes the training set of meta learner. Base learners and Meta Learner are not trained on the same data. This is done to prevent overfitting. Below cell is used to generate training data for Meta Learner."
   ]
  },
  {
   "cell_type": "code",
   "execution_count": 192,
   "metadata": {
    "execution": {
     "iopub.execute_input": "2020-10-07T13:07:51.732446Z",
     "iopub.status.busy": "2020-10-07T13:07:51.725578Z",
     "iopub.status.idle": "2020-10-07T13:07:51.916408Z",
     "shell.execute_reply": "2020-10-07T13:07:51.915743Z"
    },
    "papermill": {
     "duration": 0.260065,
     "end_time": "2020-10-07T13:07:51.916572",
     "exception": false,
     "start_time": "2020-10-07T13:07:51.656507",
     "status": "completed"
    },
    "tags": []
   },
   "outputs": [],
   "source": [
    "# convert dataframes to numpy arrays\n",
    "np_train_X = train_X.values\n",
    "np_train_Y = train_Y.values.ravel()\n",
    "np_test_X = test_X.values\n",
    "np_test_Y = test_Y.values.ravel()\n",
    "\n",
    "# create stratified 5 fold\n",
    "skf_cv = RepeatedStratifiedKFold(n_splits=5, n_repeats=2, random_state=0)\n",
    "\n",
    "vec_X = []\n",
    "vec_Y = []\n",
    "# iterate over each split\n",
    "for train_ind, test_ind in skf_cv.split(np_train_X, np_train_Y):\n",
    "\n",
    "    # get train and test set for this split\n",
    "    train_folds_X, test_fold_X = np_train_X[train_ind], np_train_X[test_ind]\n",
    "    train_folds_Y, test_fold_Y = np_train_Y[train_ind], np_train_Y[test_ind]\n",
    "    \n",
    "    # temporary base learners\n",
    "    cls_1t = LogisticRegression()\n",
    "    cls_2t = DecisionTreeClassifier(random_state=0)\n",
    "    \n",
    "    # fit cls_1t on train_folds_X and predict on test_fold_X \n",
    "    cls_1t.fit(train_folds_X, train_folds_Y)\n",
    "    pred_proba_1 = cls_1t.predict_proba(test_fold_X)[:,1]\n",
    "    \n",
    "    # fit cls_2t on train_folds_X and predict on test_fold_X \n",
    "    cls_2t.fit(train_folds_X, train_folds_Y)\n",
    "    pred_proba_2 = cls_2t.predict_proba(test_fold_X)[:,1]\n",
    "\n",
    "    vec_X.extend(np.concatenate((pred_proba_1.reshape(-1,1),\n",
    "                                 pred_proba_2.reshape(-1,1)), axis=1))\n",
    "    vec_Y.extend(test_fold_Y)\n",
    "    \n",
    "meta_X = np.array(vec_X)\n",
    "meta_Y = np.array(vec_Y)"
   ]
  },
  {
   "cell_type": "markdown",
   "metadata": {
    "papermill": {
     "duration": 0.060794,
     "end_time": "2020-10-07T13:07:52.038480",
     "exception": false,
     "start_time": "2020-10-07T13:07:51.977686",
     "status": "completed"
    },
    "tags": []
   },
   "source": [
    "Now, we have data to train our meta learner. Temporary base learners are discarded."
   ]
  },
  {
   "cell_type": "markdown",
   "metadata": {
    "papermill": {
     "duration": 0.06069,
     "end_time": "2020-10-07T13:07:52.161757",
     "exception": false,
     "start_time": "2020-10-07T13:07:52.101067",
     "status": "completed"
    },
    "tags": []
   },
   "source": [
    "## Train Base Learners\n",
    "\n",
    "After generating training data for Meta Learner, base learners (LogisticRegression and DecisionTreeClassifier) are trained on whole training data, np_train_X and np_train_Y."
   ]
  },
  {
   "cell_type": "code",
   "execution_count": 193,
   "metadata": {
    "execution": {
     "iopub.execute_input": "2020-10-07T13:07:52.294005Z",
     "iopub.status.busy": "2020-10-07T13:07:52.292794Z",
     "iopub.status.idle": "2020-10-07T13:07:52.317450Z",
     "shell.execute_reply": "2020-10-07T13:07:52.316709Z"
    },
    "papermill": {
     "duration": 0.093997,
     "end_time": "2020-10-07T13:07:52.317621",
     "exception": false,
     "start_time": "2020-10-07T13:07:52.223624",
     "status": "completed"
    },
    "tags": []
   },
   "outputs": [],
   "source": [
    "# base Learners\n",
    "cls_1 = LogisticRegression()\n",
    "cls_2 = DecisionTreeClassifier(random_state=0)\n",
    "\n",
    "# fit cls_1 on train_X\n",
    "cls_1.fit(np_train_X, np_train_Y)\n",
    "# fit cls_2 on train_X\n",
    "cls_2.fit(np_train_X, np_train_Y);"
   ]
  },
  {
   "cell_type": "markdown",
   "metadata": {
    "papermill": {
     "duration": 0.061397,
     "end_time": "2020-10-07T13:07:52.445652",
     "exception": false,
     "start_time": "2020-10-07T13:07:52.384255",
     "status": "completed"
    },
    "tags": []
   },
   "source": [
    "## Test Base Learners\n",
    "\n",
    "Base learners are evaluated on np_test_X. Their classification reports are printed."
   ]
  },
  {
   "cell_type": "code",
   "execution_count": 199,
   "metadata": {
    "execution": {
     "iopub.execute_input": "2020-10-07T13:07:52.578635Z",
     "iopub.status.busy": "2020-10-07T13:07:52.577479Z",
     "iopub.status.idle": "2020-10-07T13:07:52.595143Z",
     "shell.execute_reply": "2020-10-07T13:07:52.594507Z"
    },
    "papermill": {
     "duration": 0.087356,
     "end_time": "2020-10-07T13:07:52.595274",
     "exception": false,
     "start_time": "2020-10-07T13:07:52.507918",
     "status": "completed"
    },
    "tags": []
   },
   "outputs": [
    {
     "name": "stdout",
     "output_type": "stream",
     "text": [
      "Classification report for base learner 1\n",
      "\n",
      "                   precision    recall  f1-score   support\n",
      "\n",
      "Not Loan Customer     0.9651    0.9801    0.9726       904\n",
      "    Loan Customer     0.7805    0.6667    0.7191        96\n",
      "\n",
      "         accuracy                         0.9500      1000\n",
      "        macro avg     0.8728    0.8234    0.8458      1000\n",
      "     weighted avg     0.9474    0.9500    0.9482      1000\n",
      "\n"
     ]
    },
    {
     "data": {
      "text/plain": [
       "array([[886,  18],\n",
       "       [ 32,  64]])"
      ]
     },
     "execution_count": 199,
     "metadata": {},
     "output_type": "execute_result"
    }
   ],
   "source": [
    "pred_1_test_X = cls_1.predict(np_test_X)\n",
    "print(\"Classification report for base learner 1\\n\")\n",
    "print(classification_report(np_test_Y, pred_1_test_X,\n",
    "                            digits = 4,\n",
    "                            target_names=[\"Not Loan Customer\",\n",
    "                                          \"Loan Customer\"]))\n",
    "\n",
    "confusion_matrix(np_test_Y, pred_1_test_X) \n",
    "\n"
   ]
  },
  {
   "cell_type": "code",
   "execution_count": 198,
   "metadata": {},
   "outputs": [
    {
     "name": "stdout",
     "output_type": "stream",
     "text": [
      "\n",
      "\n",
      "Classification report for base learner 2\n",
      "\n",
      "                   precision    recall  f1-score   support\n",
      "\n",
      "Not Loan Customer     0.9912    0.9945    0.9928       904\n",
      "    Loan Customer     0.9462    0.9167    0.9312        96\n",
      "\n",
      "         accuracy                         0.9870      1000\n",
      "        macro avg     0.9687    0.9556    0.9620      1000\n",
      "     weighted avg     0.9869    0.9870    0.9869      1000\n",
      "\n"
     ]
    },
    {
     "data": {
      "text/plain": [
       "array([[899,   5],\n",
       "       [  8,  88]])"
      ]
     },
     "execution_count": 198,
     "metadata": {},
     "output_type": "execute_result"
    }
   ],
   "source": [
    "\n",
    "pred_2_test_X = cls_2.predict(np_test_X)\n",
    "print(\"\\n\\nClassification report for base learner 2\\n\")\n",
    "print(classification_report(np_test_Y, pred_2_test_X,\n",
    "                            digits = 4,\n",
    "                            target_names=[\"Not Loan Customer\",\n",
    "                                          \"Loan Customer\"]))\n",
    "confusion_matrix(np_test_Y, pred_2_test_X)                                         "
   ]
  },
  {
   "cell_type": "markdown",
   "metadata": {
    "papermill": {
     "duration": 0.06124,
     "end_time": "2020-10-07T13:07:52.718192",
     "exception": false,
     "start_time": "2020-10-07T13:07:52.656952",
     "status": "completed"
    },
    "tags": []
   },
   "source": [
    "## Train Meta Learner\n",
    "\n",
    "Meta learner XGBoost Classifier, is itself a gradient boosting ensemble that in our case has 6 sequential estimators. So, we use an ensemble as the meta learner of our stacking ensemble."
   ]
  },
  {
   "cell_type": "code",
   "execution_count": 196,
   "metadata": {
    "execution": {
     "iopub.execute_input": "2020-10-07T13:07:52.849567Z",
     "iopub.status.busy": "2020-10-07T13:07:52.848798Z",
     "iopub.status.idle": "2020-10-07T13:07:52.884089Z",
     "shell.execute_reply": "2020-10-07T13:07:52.884815Z"
    },
    "papermill": {
     "duration": 0.104942,
     "end_time": "2020-10-07T13:07:52.884997",
     "exception": false,
     "start_time": "2020-10-07T13:07:52.780055",
     "status": "completed"
    },
    "tags": []
   },
   "outputs": [
    {
     "name": "stdout",
     "output_type": "stream",
     "text": [
      "[23:00:52] WARNING: ../src/learner.cc:1115: Starting in XGBoost 1.3.0, the default evaluation metric used with the objective 'binary:logistic' was changed from 'error' to 'logloss'. Explicitly set eval_metric if you'd like to restore the old behavior.\n"
     ]
    }
   ],
   "source": [
    "meta = xgb.XGBClassifier(base_score=0.5, booster='gbtree',\n",
    "                         colsample_bylevel=1, colsample_bynode=1,\n",
    "                         colsample_bytree=1, gamma=10, gpu_id=-1,\n",
    "                         learning_rate=0.1, max_delta_step=0,\n",
    "                         max_depth=4, n_estimators=6, n_jobs=0,\n",
    "                         random_state=0, subsample=1)\n",
    "\n",
    "meta.fit(meta_X, meta_Y);"
   ]
  },
  {
   "cell_type": "markdown",
   "metadata": {
    "papermill": {
     "duration": 0.073677,
     "end_time": "2020-10-07T13:07:53.032644",
     "exception": false,
     "start_time": "2020-10-07T13:07:52.958967",
     "status": "completed"
    },
    "tags": []
   },
   "source": [
    "## Test Stacking Ensemble\n",
    "\n",
    "We process np_test_X with our base learners. Then, we feed their outputs to Meta Learner and evaluate its output. Then, classification report of Stacking Ensemble is printed."
   ]
  },
  {
   "cell_type": "code",
   "execution_count": 197,
   "metadata": {
    "execution": {
     "iopub.execute_input": "2020-10-07T13:07:53.173115Z",
     "iopub.status.busy": "2020-10-07T13:07:53.172200Z",
     "iopub.status.idle": "2020-10-07T13:07:53.186780Z",
     "shell.execute_reply": "2020-10-07T13:07:53.186038Z"
    },
    "papermill": {
     "duration": 0.085707,
     "end_time": "2020-10-07T13:07:53.186924",
     "exception": false,
     "start_time": "2020-10-07T13:07:53.101217",
     "status": "completed"
    },
    "tags": []
   },
   "outputs": [
    {
     "name": "stdout",
     "output_type": "stream",
     "text": [
      "Classification report for Stacking Ensemble\n",
      "\n",
      "                   precision    recall  f1-score   support\n",
      "\n",
      "Not Loan Customer     0.9901    0.9967    0.9934       904\n",
      "    Loan Customer     0.9667    0.9062    0.9355        96\n",
      "\n",
      "         accuracy                         0.9880      1000\n",
      "        macro avg     0.9784    0.9515    0.9644      1000\n",
      "     weighted avg     0.9879    0.9880    0.9878      1000\n",
      "\n"
     ]
    }
   ],
   "source": [
    "prob_1_test_X = cls_1.predict_proba(np_test_X)[:,1]\n",
    "prob_2_test_X = cls_2.predict_proba(np_test_X)[:,1]\n",
    "\n",
    "level_1_in_X = np.concatenate((prob_1_test_X.reshape(-1,1),\n",
    "                               prob_2_test_X.reshape(-1,1)), axis=1)\n",
    "\n",
    "stacking_pred = meta.predict(level_1_in_X)\n",
    "print(\"Classification report for Stacking Ensemble\\n\")\n",
    "print(classification_report(np_test_Y, stacking_pred,\n",
    "                            digits = 4,\n",
    "                            target_names=[\"Not Loan Customer\",\n",
    "                                          \"Loan Customer\"]))\n"
   ]
  },
  {
   "cell_type": "markdown",
   "metadata": {
    "papermill": {
     "duration": 0.074151,
     "end_time": "2020-10-07T13:07:53.336325",
     "exception": false,
     "start_time": "2020-10-07T13:07:53.262174",
     "status": "completed"
    },
    "tags": []
   },
   "source": [
    "Performance of base learners, LogisticRegression and DecisionTreeClassifier are already very high. If we look at the F1 scores, we see that even in this case, Meta Learner has positive contribution.\n",
    "\n",
    "Just like other ensemble methods, performance gain provided by stacking ensemble changes according to dataset under consideration. In some cases, base learners are enough, in some cases, performance gain can be moderate or higher."
   ]
  }
 ],
 "metadata": {
  "kernelspec": {
   "display_name": "Python 3",
   "language": "python",
   "name": "python3"
  },
  "language_info": {
   "codemirror_mode": {
    "name": "ipython",
    "version": 3
   },
   "file_extension": ".py",
   "mimetype": "text/x-python",
   "name": "python",
   "nbconvert_exporter": "python",
   "pygments_lexer": "ipython3",
   "version": "3.9.7"
  },
  "papermill": {
   "duration": 26.101537,
   "end_time": "2020-10-07T13:07:54.493577",
   "environment_variables": {},
   "exception": null,
   "input_path": "__notebook__.ipynb",
   "output_path": "__notebook__.ipynb",
   "parameters": {},
   "start_time": "2020-10-07T13:07:28.392040",
   "version": "2.1.0"
  }
 },
 "nbformat": 4,
 "nbformat_minor": 4
}
